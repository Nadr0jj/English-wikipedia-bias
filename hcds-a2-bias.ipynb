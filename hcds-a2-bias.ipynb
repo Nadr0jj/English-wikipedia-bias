{
  "nbformat": 4,
  "nbformat_minor": 0,
  "metadata": {
    "colab": {
      "name": "A2.ipynb",
      "provenance": [],
      "collapsed_sections": [
        "Ng3hiNGTiGu7",
        "mrvm-mD3iLqz",
        "KhqVVLF8ixmj",
        "vcKvXZg3kwg7"
      ]
    },
    "kernelspec": {
      "name": "python3",
      "display_name": "Python 3"
    },
    "language_info": {
      "name": "python"
    }
  },
  "cells": [
    {
      "cell_type": "markdown",
      "metadata": {
        "id": "bds2MGqB0ULK"
      },
      "source": [
        "# Goals\n",
        "Create a series of tables to show...\n",
        "\n",
        "1. The countries with the greatest and least coverage of politicians on Wikipedia compared to their population.   \n",
        "2. The countries with the highest and lowest proportion of high quality articles about politicians (according to ORES).\n",
        "3. A ranking of geographic regions by articles-per-person and proportion of high quality articles.\n",
        "\n"
      ]
    },
    {
      "cell_type": "markdown",
      "metadata": {
        "id": "woL5ehct2_Mq"
      },
      "source": [
        "Step 1: Gathering the data\n",
        "\n",
        "Wikipedia politicians by country dataset: [https://figshare.com/articles/Untitled_Item/5513449](https://figshare.com/articles/Untitled_Item/5513449)\n",
        "\n",
        "Population data by country/region: [https://www.prb.org/international/indicator/population/table/](https://www.prb.org/international/indicator/population/table/)"
      ]
    },
    {
      "cell_type": "markdown",
      "metadata": {
        "id": "STFug4bv2kFK"
      },
      "source": [
        "# Step 2: Cleaning the data\n",
        "The file page_data.csv contains some page names that start with the string \"Template:\". These pages are not articles and need to be removed.\n",
        "\n",
        "Similarly, WPDF_2020_data.cs contains some rows that provide cumulative regional population counts rather than country-level counts. These rows have all caps in the values in the 'geography' field. They need to be removed and stored somewhere else for later analysis. "
      ]
    },
    {
      "cell_type": "markdown",
      "metadata": {
        "id": "1ll39Ry93bZL"
      },
      "source": [
        "First, we'll need to import the data into Pandas DataFrames. Then, we'll execute the data cleaning steps."
      ]
    },
    {
      "cell_type": "code",
      "metadata": {
        "id": "yHHAje983hYs"
      },
      "source": [
        "import pandas as pd"
      ],
      "execution_count": null,
      "outputs": []
    },
    {
      "cell_type": "code",
      "metadata": {
        "id": "aHI8nq2i3i_1"
      },
      "source": [
        "page_data = pd.read_csv('page_data.csv')\n",
        "population_data = pd.read_csv('/content/WPDS_2020_data.csv')"
      ],
      "execution_count": null,
      "outputs": []
    },
    {
      "cell_type": "code",
      "metadata": {
        "id": "KcU8svdS4WyB"
      },
      "source": [
        "# Removes all articles whose title contains \"Template:\"\n",
        "page_data2 = page_data[~page_data.page.str.contains(\"Template:\")]\n",
        "\n",
        "# Removes all regional population count rows\n",
        "population_data2 = population_data[~population_data.Name.str.isupper()]\n",
        "\n",
        "# Stores all regional population count rows in a new df\n",
        "regional_pop_data = population_data[population_data.Name.str.isupper()]"
      ],
      "execution_count": null,
      "outputs": []
    },
    {
      "cell_type": "markdown",
      "metadata": {
        "id": "CpC3BQkN97_L"
      },
      "source": [
        "# Step 3: Estimating article quality\n",
        "Using the Objective Revision Evaluation Service (ORES), a machine learning tool created to estimate wikipedia article quality, we will obtain the predicted article quality for our list of articles in the page_data2 DataFrame."
      ]
    },
    {
      "cell_type": "code",
      "metadata": {
        "id": "xTaWQZDz707t",
        "colab": {
          "base_uri": "https://localhost:8080/"
        },
        "outputId": "a3f34027-72ea-4deb-ea01-214998c6f868"
      },
      "source": [
        "!pip install ores\n",
        "from ores import api"
      ],
      "execution_count": null,
      "outputs": [
        {
          "output_type": "stream",
          "name": "stdout",
          "text": [
            "Requirement already satisfied: ores in /usr/local/lib/python3.7/dist-packages (1.4.0)\n",
            "Requirement already satisfied: flask-jsonpify<1.5.999,>=1.5.0 in /usr/local/lib/python3.7/dist-packages (from ores) (1.5.0)\n",
            "Requirement already satisfied: mwapi<0.5.999,>=0.5.0 in /usr/local/lib/python3.7/dist-packages (from ores) (0.5.1)\n",
            "Requirement already satisfied: flask-swaggerui<0.0.999,>=0.0.1 in /usr/local/lib/python3.7/dist-packages (from ores) (0.0.1)\n",
            "Requirement already satisfied: werkzeug==0.16.1 in /usr/local/lib/python3.7/dist-packages (from ores) (0.16.1)\n",
            "Requirement already satisfied: stopit<1.1.999,>=1.1.1 in /usr/local/lib/python3.7/dist-packages (from ores) (1.1.2)\n",
            "Requirement already satisfied: flask<1.0.999,>=1.0.2 in /usr/local/lib/python3.7/dist-packages (from ores) (1.0.4)\n",
            "Requirement already satisfied: celery<4.1.999,>=4.1.1 in /usr/local/lib/python3.7/dist-packages (from ores) (4.1.1)\n",
            "Requirement already satisfied: pyyaml==4.2b4 in /usr/local/lib/python3.7/dist-packages (from ores) (4.2b4)\n",
            "Requirement already satisfied: redis<4.0.0,>=3.2.1 in /usr/local/lib/python3.7/dist-packages (from ores) (3.5.3)\n",
            "Requirement already satisfied: docopt<0.6.999,>=0.6.2 in /usr/local/lib/python3.7/dist-packages (from ores) (0.6.2)\n",
            "Requirement already satisfied: revscoring<2.6.999,>=2.3.0 in /usr/local/lib/python3.7/dist-packages (from ores) (2.6.9)\n",
            "Requirement already satisfied: yamlconf<0.2.999,>=0.2.4 in /usr/local/lib/python3.7/dist-packages (from ores) (0.2.4)\n",
            "Requirement already satisfied: sseclient>=0.0.18 in /usr/local/lib/python3.7/dist-packages (from ores) (0.0.27)\n",
            "Requirement already satisfied: flask-wikimediaui<0.0.999,>=0.0.1 in /usr/local/lib/python3.7/dist-packages (from ores) (0.0.1)\n",
            "Requirement already satisfied: kombu<5.0,>=4.2.0 in /usr/local/lib/python3.7/dist-packages (from celery<4.1.999,>=4.1.1->ores) (4.6.11)\n",
            "Requirement already satisfied: billiard<3.6.0,>=3.5.0.2 in /usr/local/lib/python3.7/dist-packages (from celery<4.1.999,>=4.1.1->ores) (3.5.0.5)\n",
            "Requirement already satisfied: pytz>dev in /usr/local/lib/python3.7/dist-packages (from celery<4.1.999,>=4.1.1->ores) (2018.9)\n",
            "Requirement already satisfied: click>=5.1 in /usr/local/lib/python3.7/dist-packages (from flask<1.0.999,>=1.0.2->ores) (7.1.2)\n",
            "Requirement already satisfied: Jinja2>=2.10 in /usr/local/lib/python3.7/dist-packages (from flask<1.0.999,>=1.0.2->ores) (2.11.3)\n",
            "Requirement already satisfied: itsdangerous>=0.24 in /usr/local/lib/python3.7/dist-packages (from flask<1.0.999,>=1.0.2->ores) (1.1.0)\n",
            "Requirement already satisfied: MarkupSafe>=0.23 in /usr/local/lib/python3.7/dist-packages (from Jinja2>=2.10->flask<1.0.999,>=1.0.2->ores) (2.0.1)\n",
            "Requirement already satisfied: amqp<2.7,>=2.6.0 in /usr/local/lib/python3.7/dist-packages (from kombu<5.0,>=4.2.0->celery<4.1.999,>=4.1.1->ores) (2.6.1)\n",
            "Requirement already satisfied: importlib-metadata>=0.18 in /usr/local/lib/python3.7/dist-packages (from kombu<5.0,>=4.2.0->celery<4.1.999,>=4.1.1->ores) (4.8.1)\n",
            "Requirement already satisfied: vine<5.0.0a1,>=1.1.3 in /usr/local/lib/python3.7/dist-packages (from amqp<2.7,>=2.6.0->kombu<5.0,>=4.2.0->celery<4.1.999,>=4.1.1->ores) (1.3.0)\n",
            "Requirement already satisfied: zipp>=0.5 in /usr/local/lib/python3.7/dist-packages (from importlib-metadata>=0.18->kombu<5.0,>=4.2.0->celery<4.1.999,>=4.1.1->ores) (3.6.0)\n",
            "Requirement already satisfied: typing-extensions>=3.6.4 in /usr/local/lib/python3.7/dist-packages (from importlib-metadata>=0.18->kombu<5.0,>=4.2.0->celery<4.1.999,>=4.1.1->ores) (3.7.4.3)\n",
            "Requirement already satisfied: requests in /usr/local/lib/python3.7/dist-packages (from mwapi<0.5.999,>=0.5.0->ores) (2.23.0)\n",
            "Requirement already satisfied: mwtypes<0.3.999,>=0.2.0 in /usr/local/lib/python3.7/dist-packages (from revscoring<2.6.999,>=2.3.0->ores) (0.3.2)\n",
            "Requirement already satisfied: textstat<0.3.999,>=0.3.1 in /usr/local/lib/python3.7/dist-packages (from revscoring<2.6.999,>=2.3.0->ores) (0.3.1)\n",
            "Requirement already satisfied: hanziconv<0.3.999,>=0.3.2 in /usr/local/lib/python3.7/dist-packages (from revscoring<2.6.999,>=2.3.0->ores) (0.3.2)\n",
            "Requirement already satisfied: scipy<1.2.999,>=1.2.1 in /usr/local/lib/python3.7/dist-packages (from revscoring<2.6.999,>=2.3.0->ores) (1.2.3)\n",
            "Requirement already satisfied: gensim<3.8.999,>=3.8.1 in /usr/local/lib/python3.7/dist-packages (from revscoring<2.6.999,>=2.3.0->ores) (3.8.3)\n",
            "Requirement already satisfied: flake8<3.3.999,>=3.3.0 in /usr/local/lib/python3.7/dist-packages (from revscoring<2.6.999,>=2.3.0->ores) (3.3.0)\n",
            "Requirement already satisfied: mmh3<2.3.999,>=2.3.1 in /usr/local/lib/python3.7/dist-packages (from revscoring<2.6.999,>=2.3.0->ores) (2.3.1)\n",
            "Requirement already satisfied: more-itertools<7.2.999,>=7.2.0 in /usr/local/lib/python3.7/dist-packages (from revscoring<2.6.999,>=2.3.0->ores) (7.2.0)\n",
            "Requirement already satisfied: scikit-learn==0.20.3 in /usr/local/lib/python3.7/dist-packages (from revscoring<2.6.999,>=2.3.0->ores) (0.20.3)\n",
            "Requirement already satisfied: nltk<3.4.999,>=3.4.5 in /usr/local/lib/python3.7/dist-packages (from revscoring<2.6.999,>=2.3.0->ores) (3.4.5)\n",
            "Requirement already satisfied: deltas<0.4.999,>=0.4.6 in /usr/local/lib/python3.7/dist-packages (from revscoring<2.6.999,>=2.3.0->ores) (0.4.7)\n",
            "Requirement already satisfied: deep-merge<0.0.999,>=0.0.1 in /usr/local/lib/python3.7/dist-packages (from revscoring<2.6.999,>=2.3.0->ores) (0.0.4)\n",
            "Requirement already satisfied: tabulate<0.7.999,>=0.7.5 in /usr/local/lib/python3.7/dist-packages (from revscoring<2.6.999,>=2.3.0->ores) (0.7.7)\n",
            "Requirement already satisfied: mysqltsv<0.0.999,>=0.0.7 in /usr/local/lib/python3.7/dist-packages (from revscoring<2.6.999,>=2.3.0->ores) (0.0.7)\n",
            "Requirement already satisfied: pyenchant<1.6.999,>=1.6.6 in /usr/local/lib/python3.7/dist-packages (from revscoring<2.6.999,>=2.3.0->ores) (1.6.6)\n",
            "Requirement already satisfied: mwparserfromhell<0.5.999,>=0.5.1 in /usr/local/lib/python3.7/dist-packages (from revscoring<2.6.999,>=2.3.0->ores) (0.5.4)\n",
            "Requirement already satisfied: mwbase<0.1.999,>=0.1.4 in /usr/local/lib/python3.7/dist-packages (from revscoring<2.6.999,>=2.3.0->ores) (0.1.5)\n",
            "Requirement already satisfied: tqdm<4.15.9999,>=4.15.0 in /usr/local/lib/python3.7/dist-packages (from revscoring<2.6.999,>=2.3.0->ores) (4.15.0)\n",
            "Requirement already satisfied: numpy<1.16.999,>=1.16.2 in /usr/local/lib/python3.7/dist-packages (from revscoring<2.6.999,>=2.3.0->ores) (1.16.6)\n",
            "Requirement already satisfied: pyflakes<1.6.0,>=1.5.0 in /usr/local/lib/python3.7/dist-packages (from flake8<3.3.999,>=3.3.0->revscoring<2.6.999,>=2.3.0->ores) (1.5.0)\n",
            "Requirement already satisfied: pycodestyle<2.4.0,>=2.0.0 in /usr/local/lib/python3.7/dist-packages (from flake8<3.3.999,>=3.3.0->revscoring<2.6.999,>=2.3.0->ores) (2.3.1)\n",
            "Requirement already satisfied: mccabe<0.7.0,>=0.6.0 in /usr/local/lib/python3.7/dist-packages (from flake8<3.3.999,>=3.3.0->revscoring<2.6.999,>=2.3.0->ores) (0.6.1)\n",
            "Requirement already satisfied: smart-open>=1.8.1 in /usr/local/lib/python3.7/dist-packages (from gensim<3.8.999,>=3.8.1->revscoring<2.6.999,>=2.3.0->ores) (5.2.1)\n",
            "Requirement already satisfied: six>=1.5.0 in /usr/local/lib/python3.7/dist-packages (from gensim<3.8.999,>=3.8.1->revscoring<2.6.999,>=2.3.0->ores) (1.15.0)\n",
            "Requirement already satisfied: jsonable>=0.3.0 in /usr/local/lib/python3.7/dist-packages (from mwtypes<0.3.999,>=0.2.0->revscoring<2.6.999,>=2.3.0->ores) (0.3.1)\n",
            "Requirement already satisfied: certifi>=2017.4.17 in /usr/local/lib/python3.7/dist-packages (from requests->mwapi<0.5.999,>=0.5.0->ores) (2021.5.30)\n",
            "Requirement already satisfied: idna<3,>=2.5 in /usr/local/lib/python3.7/dist-packages (from requests->mwapi<0.5.999,>=0.5.0->ores) (2.10)\n",
            "Requirement already satisfied: urllib3!=1.25.0,!=1.25.1,<1.26,>=1.21.1 in /usr/local/lib/python3.7/dist-packages (from requests->mwapi<0.5.999,>=0.5.0->ores) (1.24.3)\n",
            "Requirement already satisfied: chardet<4,>=3.0.2 in /usr/local/lib/python3.7/dist-packages (from requests->mwapi<0.5.999,>=0.5.0->ores) (3.0.4)\n"
          ]
        }
      ]
    },
    {
      "cell_type": "code",
      "metadata": {
        "id": "K77PiDMi--tE"
      },
      "source": [
        "# Provide useragent string to help ORES team track requests\n",
        "ores_session = api.Session(\"https://ores.wikimedia.org\", \"DATA 512 class project jjfields@uw.edu\")"
      ],
      "execution_count": null,
      "outputs": []
    },
    {
      "cell_type": "code",
      "metadata": {
        "id": "zYWTh2pM_P8t"
      },
      "source": [
        "# Process all ~50k articles in one call\n",
        "results = ores_session.score(\"enwiki\", [\"articlequality\"], page_data2['rev_id'])"
      ],
      "execution_count": null,
      "outputs": []
    },
    {
      "cell_type": "code",
      "metadata": {
        "id": "ocV_ga2UA_Ox"
      },
      "source": [
        "# Create a new column we can add to our page_data2 df which includes predicted article quality\n",
        "scores = []\n",
        "\n",
        "for score in results:\n",
        "  try:\n",
        "    scores.append(score['articlequality']['score']['prediction'])\n",
        "  except:\n",
        "    scores.append(-1) # -1 will be the code for the case where ORES was unable to provide a prediction"
      ],
      "execution_count": null,
      "outputs": []
    },
    {
      "cell_type": "code",
      "metadata": {
        "id": "bRidoY8VCPI_",
        "colab": {
          "base_uri": "https://localhost:8080/"
        },
        "outputId": "4ca563bf-4c12-4c1b-acb7-e818ca284076"
      },
      "source": [
        "# Create a DataFrame with predicted_score added as column\n",
        "page_data3 = page_data2\n",
        "page_data3['predicted_quality'] = scores"
      ],
      "execution_count": null,
      "outputs": [
        {
          "output_type": "stream",
          "name": "stderr",
          "text": [
            "/usr/local/lib/python3.7/dist-packages/ipykernel_launcher.py:3: SettingWithCopyWarning: \n",
            "A value is trying to be set on a copy of a slice from a DataFrame.\n",
            "Try using .loc[row_indexer,col_indexer] = value instead\n",
            "\n",
            "See the caveats in the documentation: https://pandas.pydata.org/pandas-docs/stable/user_guide/indexing.html#returning-a-view-versus-a-copy\n",
            "  This is separate from the ipykernel package so we can avoid doing imports until\n"
          ]
        }
      ]
    },
    {
      "cell_type": "code",
      "metadata": {
        "colab": {
          "base_uri": "https://localhost:8080/"
        },
        "id": "e-EDWFYDFccV",
        "outputId": "03651ee3-70ad-48f3-c50a-5fd5890b51f2"
      },
      "source": [
        "page_data3['predicted_quality'].value_counts()"
      ],
      "execution_count": null,
      "outputs": [
        {
          "output_type": "execute_result",
          "data": {
            "text/plain": [
              "Stub     24210\n",
              "Start    14499\n",
              "C         5929\n",
              "GA         771\n",
              "B          726\n",
              "FA         290\n",
              "-1         276\n",
              "Name: predicted_quality, dtype: int64"
            ]
          },
          "metadata": {},
          "execution_count": 85
        }
      ]
    },
    {
      "cell_type": "markdown",
      "metadata": {
        "id": "X6JMWT_AGPbt"
      },
      "source": [
        "# Step 4: Merging the page_data3 DF and population_data DF\n",
        "We will merge these datasets together in order to complete our analysis."
      ]
    },
    {
      "cell_type": "code",
      "metadata": {
        "colab": {
          "base_uri": "https://localhost:8080/",
          "height": 80
        },
        "id": "qgQyVFsHFdhk",
        "outputId": "f41507b9-32b6-438e-b921-54fb41b7d528"
      },
      "source": [
        "page_data3.head(1)"
      ],
      "execution_count": null,
      "outputs": [
        {
          "output_type": "execute_result",
          "data": {
            "text/html": [
              "<div>\n",
              "<style scoped>\n",
              "    .dataframe tbody tr th:only-of-type {\n",
              "        vertical-align: middle;\n",
              "    }\n",
              "\n",
              "    .dataframe tbody tr th {\n",
              "        vertical-align: top;\n",
              "    }\n",
              "\n",
              "    .dataframe thead th {\n",
              "        text-align: right;\n",
              "    }\n",
              "</style>\n",
              "<table border=\"1\" class=\"dataframe\">\n",
              "  <thead>\n",
              "    <tr style=\"text-align: right;\">\n",
              "      <th></th>\n",
              "      <th>page</th>\n",
              "      <th>country</th>\n",
              "      <th>rev_id</th>\n",
              "      <th>predicted_quality</th>\n",
              "    </tr>\n",
              "  </thead>\n",
              "  <tbody>\n",
              "    <tr>\n",
              "      <th>1</th>\n",
              "      <td>Bir I of Kanem</td>\n",
              "      <td>Chad</td>\n",
              "      <td>355319463</td>\n",
              "      <td>Stub</td>\n",
              "    </tr>\n",
              "  </tbody>\n",
              "</table>\n",
              "</div>"
            ],
            "text/plain": [
              "             page country     rev_id predicted_quality\n",
              "1  Bir I of Kanem    Chad  355319463              Stub"
            ]
          },
          "metadata": {},
          "execution_count": 86
        }
      ]
    },
    {
      "cell_type": "code",
      "metadata": {
        "colab": {
          "base_uri": "https://localhost:8080/",
          "height": 165
        },
        "id": "t5Qg573vIHSO",
        "outputId": "6789045c-8c24-432b-8a62-c5bcef3f82c4"
      },
      "source": [
        "population_data3 = population_data2\n",
        "population_data3.rename(columns={'Name': 'country'}, inplace=True)\n",
        "population_data3.head(1)"
      ],
      "execution_count": null,
      "outputs": [
        {
          "output_type": "stream",
          "name": "stderr",
          "text": [
            "/usr/local/lib/python3.7/dist-packages/pandas/core/frame.py:4308: SettingWithCopyWarning: \n",
            "A value is trying to be set on a copy of a slice from a DataFrame\n",
            "\n",
            "See the caveats in the documentation: https://pandas.pydata.org/pandas-docs/stable/user_guide/indexing.html#returning-a-view-versus-a-copy\n",
            "  errors=errors,\n"
          ]
        },
        {
          "output_type": "execute_result",
          "data": {
            "text/html": [
              "<div>\n",
              "<style scoped>\n",
              "    .dataframe tbody tr th:only-of-type {\n",
              "        vertical-align: middle;\n",
              "    }\n",
              "\n",
              "    .dataframe tbody tr th {\n",
              "        vertical-align: top;\n",
              "    }\n",
              "\n",
              "    .dataframe thead th {\n",
              "        text-align: right;\n",
              "    }\n",
              "</style>\n",
              "<table border=\"1\" class=\"dataframe\">\n",
              "  <thead>\n",
              "    <tr style=\"text-align: right;\">\n",
              "      <th></th>\n",
              "      <th>FIPS</th>\n",
              "      <th>country</th>\n",
              "      <th>Type</th>\n",
              "      <th>TimeFrame</th>\n",
              "      <th>Data (M)</th>\n",
              "      <th>Population</th>\n",
              "    </tr>\n",
              "  </thead>\n",
              "  <tbody>\n",
              "    <tr>\n",
              "      <th>3</th>\n",
              "      <td>DZ</td>\n",
              "      <td>Algeria</td>\n",
              "      <td>Country</td>\n",
              "      <td>2019</td>\n",
              "      <td>44.357</td>\n",
              "      <td>44357000</td>\n",
              "    </tr>\n",
              "  </tbody>\n",
              "</table>\n",
              "</div>"
            ],
            "text/plain": [
              "  FIPS  country     Type  TimeFrame  Data (M)  Population\n",
              "3   DZ  Algeria  Country       2019    44.357    44357000"
            ]
          },
          "metadata": {},
          "execution_count": 87
        }
      ]
    },
    {
      "cell_type": "code",
      "metadata": {
        "colab": {
          "base_uri": "https://localhost:8080/",
          "height": 142
        },
        "id": "hMPGwRq-IcvL",
        "outputId": "0b1bb310-3041-4142-e5a3-ee0b8ca0b26f"
      },
      "source": [
        "df = pd.merge(page_data3, population_data2, on=['country'], how='outer', indicator=True)\n",
        "df.head(3)"
      ],
      "execution_count": null,
      "outputs": [
        {
          "output_type": "execute_result",
          "data": {
            "text/html": [
              "<div>\n",
              "<style scoped>\n",
              "    .dataframe tbody tr th:only-of-type {\n",
              "        vertical-align: middle;\n",
              "    }\n",
              "\n",
              "    .dataframe tbody tr th {\n",
              "        vertical-align: top;\n",
              "    }\n",
              "\n",
              "    .dataframe thead th {\n",
              "        text-align: right;\n",
              "    }\n",
              "</style>\n",
              "<table border=\"1\" class=\"dataframe\">\n",
              "  <thead>\n",
              "    <tr style=\"text-align: right;\">\n",
              "      <th></th>\n",
              "      <th>page</th>\n",
              "      <th>country</th>\n",
              "      <th>rev_id</th>\n",
              "      <th>predicted_quality</th>\n",
              "      <th>FIPS</th>\n",
              "      <th>Type</th>\n",
              "      <th>TimeFrame</th>\n",
              "      <th>Data (M)</th>\n",
              "      <th>Population</th>\n",
              "      <th>_merge</th>\n",
              "    </tr>\n",
              "  </thead>\n",
              "  <tbody>\n",
              "    <tr>\n",
              "      <th>0</th>\n",
              "      <td>Bir I of Kanem</td>\n",
              "      <td>Chad</td>\n",
              "      <td>355319463.0</td>\n",
              "      <td>Stub</td>\n",
              "      <td>TD</td>\n",
              "      <td>Country</td>\n",
              "      <td>2019.0</td>\n",
              "      <td>16.877</td>\n",
              "      <td>16877000.0</td>\n",
              "      <td>both</td>\n",
              "    </tr>\n",
              "    <tr>\n",
              "      <th>1</th>\n",
              "      <td>Abdullah II of Kanem</td>\n",
              "      <td>Chad</td>\n",
              "      <td>498683267.0</td>\n",
              "      <td>Stub</td>\n",
              "      <td>TD</td>\n",
              "      <td>Country</td>\n",
              "      <td>2019.0</td>\n",
              "      <td>16.877</td>\n",
              "      <td>16877000.0</td>\n",
              "      <td>both</td>\n",
              "    </tr>\n",
              "    <tr>\n",
              "      <th>2</th>\n",
              "      <td>Salmama II of Kanem</td>\n",
              "      <td>Chad</td>\n",
              "      <td>565745353.0</td>\n",
              "      <td>Stub</td>\n",
              "      <td>TD</td>\n",
              "      <td>Country</td>\n",
              "      <td>2019.0</td>\n",
              "      <td>16.877</td>\n",
              "      <td>16877000.0</td>\n",
              "      <td>both</td>\n",
              "    </tr>\n",
              "  </tbody>\n",
              "</table>\n",
              "</div>"
            ],
            "text/plain": [
              "                   page country       rev_id  ... Data (M)  Population _merge\n",
              "0        Bir I of Kanem    Chad  355319463.0  ...   16.877  16877000.0   both\n",
              "1  Abdullah II of Kanem    Chad  498683267.0  ...   16.877  16877000.0   both\n",
              "2   Salmama II of Kanem    Chad  565745353.0  ...   16.877  16877000.0   both\n",
              "\n",
              "[3 rows x 10 columns]"
            ]
          },
          "metadata": {},
          "execution_count": 88
        }
      ]
    },
    {
      "cell_type": "code",
      "metadata": {
        "colab": {
          "base_uri": "https://localhost:8080/"
        },
        "id": "cstgHiULL3wM",
        "outputId": "eee2c37f-0881-4052-b8b7-ab0dfb0a9bdf"
      },
      "source": [
        "df['_merge'].value_counts()"
      ],
      "execution_count": null,
      "outputs": [
        {
          "output_type": "execute_result",
          "data": {
            "text/plain": [
              "both          44842\n",
              "left_only      1859\n",
              "right_only       27\n",
              "Name: _merge, dtype: int64"
            ]
          },
          "metadata": {},
          "execution_count": 89
        }
      ]
    },
    {
      "cell_type": "markdown",
      "metadata": {
        "id": "PzpiwLdBLzqF"
      },
      "source": [
        "The new \"_merge\" column indicates whether the merge key exists in only the left (left_only) frame, right (right_only) frame, or both. We will use this to preserve the data which did not merge succesfully but also remove it from the df."
      ]
    },
    {
      "cell_type": "code",
      "metadata": {
        "id": "89SQ37DeK8P3"
      },
      "source": [
        "df_both = df[df['_merge'] == 'both']\n",
        "df_not_both = df[df['_merge'] != 'both']\n",
        "\n",
        "# Save dfs to CSV files\n",
        "df_both.to_csv(\"wp_wpds_countries-no_match.csv\")\n",
        "df_not_both.to_csv(\"wp_wpds_politicians_by_country.csv\")"
      ],
      "execution_count": null,
      "outputs": []
    },
    {
      "cell_type": "markdown",
      "metadata": {
        "id": "VpbFB3sMXE7o"
      },
      "source": [
        "# Step 5: Analysis\n",
        "We will calculate the proportion (as a percentage) of articles-per-population and high-quality articles for each country and for each geographic region. We define \"high quality\" to be articles which recieved a predicted quality score from ORES of \"FA\" or \"GA\" (featured article or good article)."
      ]
    },
    {
      "cell_type": "code",
      "metadata": {
        "id": "pvMqYqB5XEwJ",
        "colab": {
          "base_uri": "https://localhost:8080/",
          "height": 142
        },
        "outputId": "dc0aafb0-52fe-4464-837d-6f2709563495"
      },
      "source": [
        "# Make a DF which lists each country and the count of number of articles they have\n",
        "\n",
        "article_counts = pd.DataFrame(df_both['country'].value_counts()) # Sum up number of rows that exist for each country (each represents article)\n",
        "\n",
        "# Organize data into nice DF for joining later\n",
        "article_counts.rename(columns={'country': 'article_count'}, inplace=True)\n",
        "article_counts.reset_index(inplace=True)\n",
        "article_counts.rename(columns={'index': 'country'}, inplace=True)\n",
        "\n",
        "article_counts.head(3)"
      ],
      "execution_count": null,
      "outputs": [
        {
          "output_type": "execute_result",
          "data": {
            "text/html": [
              "<div>\n",
              "<style scoped>\n",
              "    .dataframe tbody tr th:only-of-type {\n",
              "        vertical-align: middle;\n",
              "    }\n",
              "\n",
              "    .dataframe tbody tr th {\n",
              "        vertical-align: top;\n",
              "    }\n",
              "\n",
              "    .dataframe thead th {\n",
              "        text-align: right;\n",
              "    }\n",
              "</style>\n",
              "<table border=\"1\" class=\"dataframe\">\n",
              "  <thead>\n",
              "    <tr style=\"text-align: right;\">\n",
              "      <th></th>\n",
              "      <th>country</th>\n",
              "      <th>article_count</th>\n",
              "    </tr>\n",
              "  </thead>\n",
              "  <tbody>\n",
              "    <tr>\n",
              "      <th>0</th>\n",
              "      <td>France</td>\n",
              "      <td>1681</td>\n",
              "    </tr>\n",
              "    <tr>\n",
              "      <th>1</th>\n",
              "      <td>Australia</td>\n",
              "      <td>1561</td>\n",
              "    </tr>\n",
              "    <tr>\n",
              "      <th>2</th>\n",
              "      <td>China</td>\n",
              "      <td>1133</td>\n",
              "    </tr>\n",
              "  </tbody>\n",
              "</table>\n",
              "</div>"
            ],
            "text/plain": [
              "     country  article_count\n",
              "0     France           1681\n",
              "1  Australia           1561\n",
              "2      China           1133"
            ]
          },
          "metadata": {},
          "execution_count": 100
        }
      ]
    },
    {
      "cell_type": "code",
      "metadata": {
        "id": "IvDzfxsKJtJZ",
        "colab": {
          "base_uri": "https://localhost:8080/",
          "height": 142
        },
        "outputId": "55d642af-35e7-4bac-952a-8bcfe6ac3747"
      },
      "source": [
        "# Make a DF which lists the number of \"FA\" or \"GA\" articles for each country\n",
        "gafa_count = df_both[(df_both.predicted_quality == 'FA') | (df_both.predicted_quality == 'GA')] # Eliminate rows which do not represent GA/FA article\n",
        "gafa_count = pd.DataFrame(gafa_count['country'].value_counts()) # Sum up the number of rows that exist for each country\n",
        "\n",
        "# Organize data into nice DF for joining later\n",
        "gafa_count.rename(columns={'country': 'gafa_count'}, inplace=True)\n",
        "gafa_count.reset_index(inplace=True)\n",
        "gafa_count.rename(columns={'index': 'country'}, inplace=True)\n",
        "\n",
        "gafa_count.head(3)"
      ],
      "execution_count": null,
      "outputs": [
        {
          "output_type": "execute_result",
          "data": {
            "text/html": [
              "<div>\n",
              "<style scoped>\n",
              "    .dataframe tbody tr th:only-of-type {\n",
              "        vertical-align: middle;\n",
              "    }\n",
              "\n",
              "    .dataframe tbody tr th {\n",
              "        vertical-align: top;\n",
              "    }\n",
              "\n",
              "    .dataframe thead th {\n",
              "        text-align: right;\n",
              "    }\n",
              "</style>\n",
              "<table border=\"1\" class=\"dataframe\">\n",
              "  <thead>\n",
              "    <tr style=\"text-align: right;\">\n",
              "      <th></th>\n",
              "      <th>country</th>\n",
              "      <th>gafa_count</th>\n",
              "    </tr>\n",
              "  </thead>\n",
              "  <tbody>\n",
              "    <tr>\n",
              "      <th>0</th>\n",
              "      <td>United States</td>\n",
              "      <td>80</td>\n",
              "    </tr>\n",
              "    <tr>\n",
              "      <th>1</th>\n",
              "      <td>United Kingdom</td>\n",
              "      <td>56</td>\n",
              "    </tr>\n",
              "    <tr>\n",
              "      <th>2</th>\n",
              "      <td>Romania</td>\n",
              "      <td>42</td>\n",
              "    </tr>\n",
              "  </tbody>\n",
              "</table>\n",
              "</div>"
            ],
            "text/plain": [
              "          country  gafa_count\n",
              "0   United States          80\n",
              "1  United Kingdom          56\n",
              "2         Romania          42"
            ]
          },
          "metadata": {},
          "execution_count": 99
        }
      ]
    },
    {
      "cell_type": "code",
      "metadata": {
        "colab": {
          "base_uri": "https://localhost:8080/",
          "height": 142
        },
        "id": "jOr2Vy6rKxfw",
        "outputId": "bdd1e7cc-58c9-448e-ec8b-59d6a398f8e0"
      },
      "source": [
        "# Create final df by joining cleaned population data and the two dfs we just created above\n",
        "\n",
        "counts_df = pd.merge(population_data3, article_counts, on=['country'], how='left')\n",
        "counts_df = pd.merge(counts_df, gafa_count, on=['country'], how='left')\n",
        "counts_df.fillna(0, inplace=True)\n",
        "\n",
        "counts_df.head(3)"
      ],
      "execution_count": null,
      "outputs": [
        {
          "output_type": "execute_result",
          "data": {
            "text/html": [
              "<div>\n",
              "<style scoped>\n",
              "    .dataframe tbody tr th:only-of-type {\n",
              "        vertical-align: middle;\n",
              "    }\n",
              "\n",
              "    .dataframe tbody tr th {\n",
              "        vertical-align: top;\n",
              "    }\n",
              "\n",
              "    .dataframe thead th {\n",
              "        text-align: right;\n",
              "    }\n",
              "</style>\n",
              "<table border=\"1\" class=\"dataframe\">\n",
              "  <thead>\n",
              "    <tr style=\"text-align: right;\">\n",
              "      <th></th>\n",
              "      <th>FIPS</th>\n",
              "      <th>country</th>\n",
              "      <th>Type</th>\n",
              "      <th>TimeFrame</th>\n",
              "      <th>Data (M)</th>\n",
              "      <th>Population</th>\n",
              "      <th>article_count</th>\n",
              "      <th>gafa_count</th>\n",
              "    </tr>\n",
              "  </thead>\n",
              "  <tbody>\n",
              "    <tr>\n",
              "      <th>0</th>\n",
              "      <td>DZ</td>\n",
              "      <td>Algeria</td>\n",
              "      <td>Country</td>\n",
              "      <td>2019</td>\n",
              "      <td>44.357</td>\n",
              "      <td>44357000</td>\n",
              "      <td>116.0</td>\n",
              "      <td>2.0</td>\n",
              "    </tr>\n",
              "    <tr>\n",
              "      <th>1</th>\n",
              "      <td>EG</td>\n",
              "      <td>Egypt</td>\n",
              "      <td>Country</td>\n",
              "      <td>2019</td>\n",
              "      <td>100.803</td>\n",
              "      <td>100803000</td>\n",
              "      <td>237.0</td>\n",
              "      <td>10.0</td>\n",
              "    </tr>\n",
              "    <tr>\n",
              "      <th>2</th>\n",
              "      <td>LY</td>\n",
              "      <td>Libya</td>\n",
              "      <td>Country</td>\n",
              "      <td>2019</td>\n",
              "      <td>6.891</td>\n",
              "      <td>6891000</td>\n",
              "      <td>110.0</td>\n",
              "      <td>4.0</td>\n",
              "    </tr>\n",
              "  </tbody>\n",
              "</table>\n",
              "</div>"
            ],
            "text/plain": [
              "  FIPS  country     Type  ...  Population  article_count  gafa_count\n",
              "0   DZ  Algeria  Country  ...    44357000          116.0         2.0\n",
              "1   EG    Egypt  Country  ...   100803000          237.0        10.0\n",
              "2   LY    Libya  Country  ...     6891000          110.0         4.0\n",
              "\n",
              "[3 rows x 8 columns]"
            ]
          },
          "metadata": {},
          "execution_count": 98
        }
      ]
    },
    {
      "cell_type": "markdown",
      "metadata": {
        "id": "MXtr_AYHeWy7"
      },
      "source": [
        "# A note about regions_df\n",
        "The population data (provided in the WPDS_2020_data.csv file) implicitly defines the region and subregion each country belongs to in a heirarchical manner. For example, If the first two rows included the data REGION = AFRICA and SUBREGION = NORTH AFRICA, then the following rows containing country information would be implicitly defined to belong to the region Africa and the subregion North Africa. However, due to some missing data this would lead to the USA and Canada also belonging to Africa because they are provided with a subregion but not a region. Due to this, I manually downloaded DataFrame population_data and added subregions and regions to each country row as I saw appropriate while staying as close to the provided data as possible. The result of my manual modification can be seen in population_data_mod.csv"
      ]
    },
    {
      "cell_type": "code",
      "metadata": {
        "id": "YqeZzdkhWhC8"
      },
      "source": [
        "regions_df = pd.read_csv(\"population_data_mod.csv\", encoding='utf-8')"
      ],
      "execution_count": null,
      "outputs": []
    },
    {
      "cell_type": "code",
      "metadata": {
        "colab": {
          "base_uri": "https://localhost:8080/",
          "height": 204
        },
        "id": "ZZ36OBSeeWNV",
        "outputId": "928e752f-7ecb-49fa-dbdb-82d5ef5ae71c"
      },
      "source": [
        "regions_df.head()"
      ],
      "execution_count": null,
      "outputs": [
        {
          "output_type": "execute_result",
          "data": {
            "text/html": [
              "<div>\n",
              "<style scoped>\n",
              "    .dataframe tbody tr th:only-of-type {\n",
              "        vertical-align: middle;\n",
              "    }\n",
              "\n",
              "    .dataframe tbody tr th {\n",
              "        vertical-align: top;\n",
              "    }\n",
              "\n",
              "    .dataframe thead th {\n",
              "        text-align: right;\n",
              "    }\n",
              "</style>\n",
              "<table border=\"1\" class=\"dataframe\">\n",
              "  <thead>\n",
              "    <tr style=\"text-align: right;\">\n",
              "      <th></th>\n",
              "      <th>Unnamed: 0</th>\n",
              "      <th>FIPS</th>\n",
              "      <th>country</th>\n",
              "      <th>Type</th>\n",
              "      <th>TimeFrame</th>\n",
              "      <th>Data (M)</th>\n",
              "      <th>Population</th>\n",
              "      <th>sub-region</th>\n",
              "      <th>region</th>\n",
              "    </tr>\n",
              "  </thead>\n",
              "  <tbody>\n",
              "    <tr>\n",
              "      <th>0</th>\n",
              "      <td>0</td>\n",
              "      <td>WORLD</td>\n",
              "      <td>WORLD</td>\n",
              "      <td>World</td>\n",
              "      <td>2019</td>\n",
              "      <td>7772.850</td>\n",
              "      <td>7772850000</td>\n",
              "      <td>NaN</td>\n",
              "      <td>NaN</td>\n",
              "    </tr>\n",
              "    <tr>\n",
              "      <th>1</th>\n",
              "      <td>1</td>\n",
              "      <td>AFRICA</td>\n",
              "      <td>AFRICA</td>\n",
              "      <td>Sub-Region</td>\n",
              "      <td>2019</td>\n",
              "      <td>1337.918</td>\n",
              "      <td>1337918000</td>\n",
              "      <td>NaN</td>\n",
              "      <td>NaN</td>\n",
              "    </tr>\n",
              "    <tr>\n",
              "      <th>2</th>\n",
              "      <td>2</td>\n",
              "      <td>NORTHERN AFRICA</td>\n",
              "      <td>NORTHERN AFRICA</td>\n",
              "      <td>Sub-Region</td>\n",
              "      <td>2019</td>\n",
              "      <td>244.344</td>\n",
              "      <td>244344000</td>\n",
              "      <td>NaN</td>\n",
              "      <td>NaN</td>\n",
              "    </tr>\n",
              "    <tr>\n",
              "      <th>3</th>\n",
              "      <td>3</td>\n",
              "      <td>DZ</td>\n",
              "      <td>Algeria</td>\n",
              "      <td>Country</td>\n",
              "      <td>2019</td>\n",
              "      <td>44.357</td>\n",
              "      <td>44357000</td>\n",
              "      <td>NORTHERN AFRICA</td>\n",
              "      <td>AFRICA</td>\n",
              "    </tr>\n",
              "    <tr>\n",
              "      <th>4</th>\n",
              "      <td>4</td>\n",
              "      <td>EG</td>\n",
              "      <td>Egypt</td>\n",
              "      <td>Country</td>\n",
              "      <td>2019</td>\n",
              "      <td>100.803</td>\n",
              "      <td>100803000</td>\n",
              "      <td>NORTHERN AFRICA</td>\n",
              "      <td>AFRICA</td>\n",
              "    </tr>\n",
              "  </tbody>\n",
              "</table>\n",
              "</div>"
            ],
            "text/plain": [
              "   Unnamed: 0             FIPS  ...       sub-region  region\n",
              "0           0            WORLD  ...              NaN     NaN\n",
              "1           1           AFRICA  ...              NaN     NaN\n",
              "2           2  NORTHERN AFRICA  ...              NaN     NaN\n",
              "3           3               DZ  ...  NORTHERN AFRICA  AFRICA\n",
              "4           4               EG  ...  NORTHERN AFRICA  AFRICA\n",
              "\n",
              "[5 rows x 9 columns]"
            ]
          },
          "metadata": {},
          "execution_count": 109
        }
      ]
    },
    {
      "cell_type": "code",
      "metadata": {
        "colab": {
          "base_uri": "https://localhost:8080/",
          "height": 204
        },
        "id": "kSgiJ7oWfoLf",
        "outputId": "2ef724cb-ea9b-4ac8-909e-58976a25f150"
      },
      "source": [
        "# Finally we can join and make our final df for the analysis\n",
        "\n",
        "analysis_df = counts_df.merge(regions_df, on='country', how='inner')[['country', 'Population_x', 'article_count', 'gafa_count', 'sub-region', 'region']]\n",
        "analysis_df.rename(columns={'Population_x': 'population'}, inplace=True)\n",
        "\n",
        "analysis_df.head()"
      ],
      "execution_count": null,
      "outputs": [
        {
          "output_type": "execute_result",
          "data": {
            "text/html": [
              "<div>\n",
              "<style scoped>\n",
              "    .dataframe tbody tr th:only-of-type {\n",
              "        vertical-align: middle;\n",
              "    }\n",
              "\n",
              "    .dataframe tbody tr th {\n",
              "        vertical-align: top;\n",
              "    }\n",
              "\n",
              "    .dataframe thead th {\n",
              "        text-align: right;\n",
              "    }\n",
              "</style>\n",
              "<table border=\"1\" class=\"dataframe\">\n",
              "  <thead>\n",
              "    <tr style=\"text-align: right;\">\n",
              "      <th></th>\n",
              "      <th>country</th>\n",
              "      <th>population</th>\n",
              "      <th>article_count</th>\n",
              "      <th>gafa_count</th>\n",
              "      <th>sub-region</th>\n",
              "      <th>region</th>\n",
              "    </tr>\n",
              "  </thead>\n",
              "  <tbody>\n",
              "    <tr>\n",
              "      <th>0</th>\n",
              "      <td>Algeria</td>\n",
              "      <td>44357000</td>\n",
              "      <td>116.0</td>\n",
              "      <td>2.0</td>\n",
              "      <td>NORTHERN AFRICA</td>\n",
              "      <td>AFRICA</td>\n",
              "    </tr>\n",
              "    <tr>\n",
              "      <th>1</th>\n",
              "      <td>Egypt</td>\n",
              "      <td>100803000</td>\n",
              "      <td>237.0</td>\n",
              "      <td>10.0</td>\n",
              "      <td>NORTHERN AFRICA</td>\n",
              "      <td>AFRICA</td>\n",
              "    </tr>\n",
              "    <tr>\n",
              "      <th>2</th>\n",
              "      <td>Libya</td>\n",
              "      <td>6891000</td>\n",
              "      <td>110.0</td>\n",
              "      <td>4.0</td>\n",
              "      <td>NORTHERN AFRICA</td>\n",
              "      <td>AFRICA</td>\n",
              "    </tr>\n",
              "    <tr>\n",
              "      <th>3</th>\n",
              "      <td>Morocco</td>\n",
              "      <td>35952000</td>\n",
              "      <td>206.0</td>\n",
              "      <td>1.0</td>\n",
              "      <td>NORTHERN AFRICA</td>\n",
              "      <td>AFRICA</td>\n",
              "    </tr>\n",
              "    <tr>\n",
              "      <th>4</th>\n",
              "      <td>Sudan</td>\n",
              "      <td>43849000</td>\n",
              "      <td>95.0</td>\n",
              "      <td>2.0</td>\n",
              "      <td>NORTHERN AFRICA</td>\n",
              "      <td>AFRICA</td>\n",
              "    </tr>\n",
              "  </tbody>\n",
              "</table>\n",
              "</div>"
            ],
            "text/plain": [
              "   country  population  article_count  gafa_count       sub-region  region\n",
              "0  Algeria    44357000          116.0         2.0  NORTHERN AFRICA  AFRICA\n",
              "1    Egypt   100803000          237.0        10.0  NORTHERN AFRICA  AFRICA\n",
              "2    Libya     6891000          110.0         4.0  NORTHERN AFRICA  AFRICA\n",
              "3  Morocco    35952000          206.0         1.0  NORTHERN AFRICA  AFRICA\n",
              "4    Sudan    43849000           95.0         2.0  NORTHERN AFRICA  AFRICA"
            ]
          },
          "metadata": {},
          "execution_count": 139
        }
      ]
    },
    {
      "cell_type": "markdown",
      "metadata": {
        "id": "Ng3hiNGTiGu7"
      },
      "source": [
        "### Articles/Population percentage by country"
      ]
    },
    {
      "cell_type": "code",
      "metadata": {
        "colab": {
          "base_uri": "https://localhost:8080/",
          "height": 306
        },
        "id": "-EOUMi72giF-",
        "outputId": "68252a72-ef8a-4a57-bfee-84fe6ee32557"
      },
      "source": [
        "articles_over_population_county_df = analysis_df[['country', 'population', 'article_count']]\n",
        "articles_over_population_county_df['article_pop_percentage'] = (100 * articles_over_population_county_df['article_count'])/articles_over_population_county_df['population']\n",
        "\n",
        "articles_over_population_county_df.head()"
      ],
      "execution_count": null,
      "outputs": [
        {
          "output_type": "stream",
          "name": "stderr",
          "text": [
            "/usr/local/lib/python3.7/dist-packages/ipykernel_launcher.py:2: SettingWithCopyWarning: \n",
            "A value is trying to be set on a copy of a slice from a DataFrame.\n",
            "Try using .loc[row_indexer,col_indexer] = value instead\n",
            "\n",
            "See the caveats in the documentation: https://pandas.pydata.org/pandas-docs/stable/user_guide/indexing.html#returning-a-view-versus-a-copy\n",
            "  \n"
          ]
        },
        {
          "output_type": "execute_result",
          "data": {
            "text/html": [
              "<div>\n",
              "<style scoped>\n",
              "    .dataframe tbody tr th:only-of-type {\n",
              "        vertical-align: middle;\n",
              "    }\n",
              "\n",
              "    .dataframe tbody tr th {\n",
              "        vertical-align: top;\n",
              "    }\n",
              "\n",
              "    .dataframe thead th {\n",
              "        text-align: right;\n",
              "    }\n",
              "</style>\n",
              "<table border=\"1\" class=\"dataframe\">\n",
              "  <thead>\n",
              "    <tr style=\"text-align: right;\">\n",
              "      <th></th>\n",
              "      <th>country</th>\n",
              "      <th>population</th>\n",
              "      <th>article_count</th>\n",
              "      <th>article_pop_percentage</th>\n",
              "    </tr>\n",
              "  </thead>\n",
              "  <tbody>\n",
              "    <tr>\n",
              "      <th>0</th>\n",
              "      <td>Algeria</td>\n",
              "      <td>44357000</td>\n",
              "      <td>116.0</td>\n",
              "      <td>0.000262</td>\n",
              "    </tr>\n",
              "    <tr>\n",
              "      <th>1</th>\n",
              "      <td>Egypt</td>\n",
              "      <td>100803000</td>\n",
              "      <td>237.0</td>\n",
              "      <td>0.000235</td>\n",
              "    </tr>\n",
              "    <tr>\n",
              "      <th>2</th>\n",
              "      <td>Libya</td>\n",
              "      <td>6891000</td>\n",
              "      <td>110.0</td>\n",
              "      <td>0.001596</td>\n",
              "    </tr>\n",
              "    <tr>\n",
              "      <th>3</th>\n",
              "      <td>Morocco</td>\n",
              "      <td>35952000</td>\n",
              "      <td>206.0</td>\n",
              "      <td>0.000573</td>\n",
              "    </tr>\n",
              "    <tr>\n",
              "      <th>4</th>\n",
              "      <td>Sudan</td>\n",
              "      <td>43849000</td>\n",
              "      <td>95.0</td>\n",
              "      <td>0.000217</td>\n",
              "    </tr>\n",
              "  </tbody>\n",
              "</table>\n",
              "</div>"
            ],
            "text/plain": [
              "   country  population  article_count  article_pop_percentage\n",
              "0  Algeria    44357000          116.0                0.000262\n",
              "1    Egypt   100803000          237.0                0.000235\n",
              "2    Libya     6891000          110.0                0.001596\n",
              "3  Morocco    35952000          206.0                0.000573\n",
              "4    Sudan    43849000           95.0                0.000217"
            ]
          },
          "metadata": {},
          "execution_count": 145
        }
      ]
    },
    {
      "cell_type": "markdown",
      "metadata": {
        "id": "mrvm-mD3iLqz"
      },
      "source": [
        "### High quality articles (gafa_count)/Population percentage by country"
      ]
    },
    {
      "cell_type": "code",
      "metadata": {
        "colab": {
          "base_uri": "https://localhost:8080/",
          "height": 306
        },
        "id": "wYPCbxdohyJ_",
        "outputId": "95b71c2e-3480-4c6c-c01e-58173c2a4e6e"
      },
      "source": [
        "gafa_over_population_country_df = analysis_df[['country', 'population', 'gafa_count']]\n",
        "gafa_over_population_country_df['gafa_pop_percentage'] = (100 * gafa_over_population_country_df['gafa_count'])/gafa_over_population_country_df['population']\n",
        "\n",
        "gafa_over_population_country_df.head()"
      ],
      "execution_count": null,
      "outputs": [
        {
          "output_type": "stream",
          "name": "stderr",
          "text": [
            "/usr/local/lib/python3.7/dist-packages/ipykernel_launcher.py:2: SettingWithCopyWarning: \n",
            "A value is trying to be set on a copy of a slice from a DataFrame.\n",
            "Try using .loc[row_indexer,col_indexer] = value instead\n",
            "\n",
            "See the caveats in the documentation: https://pandas.pydata.org/pandas-docs/stable/user_guide/indexing.html#returning-a-view-versus-a-copy\n",
            "  \n"
          ]
        },
        {
          "output_type": "execute_result",
          "data": {
            "text/html": [
              "<div>\n",
              "<style scoped>\n",
              "    .dataframe tbody tr th:only-of-type {\n",
              "        vertical-align: middle;\n",
              "    }\n",
              "\n",
              "    .dataframe tbody tr th {\n",
              "        vertical-align: top;\n",
              "    }\n",
              "\n",
              "    .dataframe thead th {\n",
              "        text-align: right;\n",
              "    }\n",
              "</style>\n",
              "<table border=\"1\" class=\"dataframe\">\n",
              "  <thead>\n",
              "    <tr style=\"text-align: right;\">\n",
              "      <th></th>\n",
              "      <th>country</th>\n",
              "      <th>population</th>\n",
              "      <th>gafa_count</th>\n",
              "      <th>gafa_pop_percentage</th>\n",
              "    </tr>\n",
              "  </thead>\n",
              "  <tbody>\n",
              "    <tr>\n",
              "      <th>0</th>\n",
              "      <td>Algeria</td>\n",
              "      <td>44357000</td>\n",
              "      <td>2.0</td>\n",
              "      <td>0.000005</td>\n",
              "    </tr>\n",
              "    <tr>\n",
              "      <th>1</th>\n",
              "      <td>Egypt</td>\n",
              "      <td>100803000</td>\n",
              "      <td>10.0</td>\n",
              "      <td>0.000010</td>\n",
              "    </tr>\n",
              "    <tr>\n",
              "      <th>2</th>\n",
              "      <td>Libya</td>\n",
              "      <td>6891000</td>\n",
              "      <td>4.0</td>\n",
              "      <td>0.000058</td>\n",
              "    </tr>\n",
              "    <tr>\n",
              "      <th>3</th>\n",
              "      <td>Morocco</td>\n",
              "      <td>35952000</td>\n",
              "      <td>1.0</td>\n",
              "      <td>0.000003</td>\n",
              "    </tr>\n",
              "    <tr>\n",
              "      <th>4</th>\n",
              "      <td>Sudan</td>\n",
              "      <td>43849000</td>\n",
              "      <td>2.0</td>\n",
              "      <td>0.000005</td>\n",
              "    </tr>\n",
              "  </tbody>\n",
              "</table>\n",
              "</div>"
            ],
            "text/plain": [
              "   country  population  gafa_count  gafa_pop_percentage\n",
              "0  Algeria    44357000         2.0             0.000005\n",
              "1    Egypt   100803000        10.0             0.000010\n",
              "2    Libya     6891000         4.0             0.000058\n",
              "3  Morocco    35952000         1.0             0.000003\n",
              "4    Sudan    43849000         2.0             0.000005"
            ]
          },
          "metadata": {},
          "execution_count": 146
        }
      ]
    },
    {
      "cell_type": "markdown",
      "metadata": {
        "id": "KhqVVLF8ixmj"
      },
      "source": [
        "### Articles/Population percentage by subregion"
      ]
    },
    {
      "cell_type": "code",
      "metadata": {
        "colab": {
          "base_uri": "https://localhost:8080/",
          "height": 204
        },
        "id": "mpq4lN3Viet1",
        "outputId": "7f6c3ea7-683a-4ddd-d74d-64fb920ce602"
      },
      "source": [
        "articles_over_population_sub_region_df = analysis_df[['sub-region', 'population', 'article_count']]\n",
        "articles_over_population_sub_region_df = articles_over_population_sub_region_df.groupby(by=['sub-region'], dropna=False).sum()\n",
        "articles_over_population_sub_region_df.reset_index(inplace=True)\n",
        "articles_over_population_sub_region_df['article_pop_percentage'] = (100 * articles_over_population_sub_region_df['article_count'])/articles_over_population_sub_region_df['population']\n",
        "\n",
        "articles_over_population_sub_region_df.head()"
      ],
      "execution_count": null,
      "outputs": [
        {
          "output_type": "execute_result",
          "data": {
            "text/html": [
              "<div>\n",
              "<style scoped>\n",
              "    .dataframe tbody tr th:only-of-type {\n",
              "        vertical-align: middle;\n",
              "    }\n",
              "\n",
              "    .dataframe tbody tr th {\n",
              "        vertical-align: top;\n",
              "    }\n",
              "\n",
              "    .dataframe thead th {\n",
              "        text-align: right;\n",
              "    }\n",
              "</style>\n",
              "<table border=\"1\" class=\"dataframe\">\n",
              "  <thead>\n",
              "    <tr style=\"text-align: right;\">\n",
              "      <th></th>\n",
              "      <th>sub-region</th>\n",
              "      <th>population</th>\n",
              "      <th>article_count</th>\n",
              "      <th>article_pop_percentage</th>\n",
              "    </tr>\n",
              "  </thead>\n",
              "  <tbody>\n",
              "    <tr>\n",
              "      <th>0</th>\n",
              "      <td>CARIBBEAN</td>\n",
              "      <td>42747000</td>\n",
              "      <td>697.0</td>\n",
              "      <td>0.001631</td>\n",
              "    </tr>\n",
              "    <tr>\n",
              "      <th>1</th>\n",
              "      <td>CENTRAL AMERICA</td>\n",
              "      <td>178612000</td>\n",
              "      <td>1545.0</td>\n",
              "      <td>0.000865</td>\n",
              "    </tr>\n",
              "    <tr>\n",
              "      <th>2</th>\n",
              "      <td>CENTRAL ASIA</td>\n",
              "      <td>74960000</td>\n",
              "      <td>247.0</td>\n",
              "      <td>0.000330</td>\n",
              "    </tr>\n",
              "    <tr>\n",
              "      <th>3</th>\n",
              "      <td>EAST ASIA</td>\n",
              "      <td>1641063000</td>\n",
              "      <td>2477.0</td>\n",
              "      <td>0.000151</td>\n",
              "    </tr>\n",
              "    <tr>\n",
              "      <th>4</th>\n",
              "      <td>EASTERN AFRICA</td>\n",
              "      <td>444970000</td>\n",
              "      <td>2509.0</td>\n",
              "      <td>0.000564</td>\n",
              "    </tr>\n",
              "  </tbody>\n",
              "</table>\n",
              "</div>"
            ],
            "text/plain": [
              "        sub-region  population  article_count  article_pop_percentage\n",
              "0        CARIBBEAN    42747000          697.0                0.001631\n",
              "1  CENTRAL AMERICA   178612000         1545.0                0.000865\n",
              "2     CENTRAL ASIA    74960000          247.0                0.000330\n",
              "3        EAST ASIA  1641063000         2477.0                0.000151\n",
              "4   EASTERN AFRICA   444970000         2509.0                0.000564"
            ]
          },
          "metadata": {},
          "execution_count": 147
        }
      ]
    },
    {
      "cell_type": "markdown",
      "metadata": {
        "id": "vcKvXZg3kwg7"
      },
      "source": [
        "### High quality articles (gafa_count)/Populatio percentage by subregion"
      ]
    },
    {
      "cell_type": "code",
      "metadata": {
        "colab": {
          "base_uri": "https://localhost:8080/",
          "height": 204
        },
        "id": "aKPehJgEkRxf",
        "outputId": "410ee395-ca50-4bba-eb2e-c89c025e8c88"
      },
      "source": [
        "gafa_over_population_sub_region_df = analysis_df[['sub-region', 'population', 'gafa_count']]\n",
        "gafa_over_population_sub_region_df = gafa_over_population_sub_region_df.groupby(by=['sub-region'], dropna=False).sum()\n",
        "gafa_over_population_sub_region_df.reset_index(inplace=True)\n",
        "gafa_over_population_sub_region_df['gafa_pop_percentage'] = (100 * gafa_over_population_sub_region_df['gafa_count'])/gafa_over_population_sub_region_df['population']\n",
        "\n",
        "gafa_over_population_sub_region_df.head()"
      ],
      "execution_count": null,
      "outputs": [
        {
          "output_type": "execute_result",
          "data": {
            "text/html": [
              "<div>\n",
              "<style scoped>\n",
              "    .dataframe tbody tr th:only-of-type {\n",
              "        vertical-align: middle;\n",
              "    }\n",
              "\n",
              "    .dataframe tbody tr th {\n",
              "        vertical-align: top;\n",
              "    }\n",
              "\n",
              "    .dataframe thead th {\n",
              "        text-align: right;\n",
              "    }\n",
              "</style>\n",
              "<table border=\"1\" class=\"dataframe\">\n",
              "  <thead>\n",
              "    <tr style=\"text-align: right;\">\n",
              "      <th></th>\n",
              "      <th>sub-region</th>\n",
              "      <th>population</th>\n",
              "      <th>gafa_count</th>\n",
              "      <th>gafa_pop_percentage</th>\n",
              "    </tr>\n",
              "  </thead>\n",
              "  <tbody>\n",
              "    <tr>\n",
              "      <th>0</th>\n",
              "      <td>CARIBBEAN</td>\n",
              "      <td>42747000</td>\n",
              "      <td>13.0</td>\n",
              "      <td>0.000030</td>\n",
              "    </tr>\n",
              "    <tr>\n",
              "      <th>1</th>\n",
              "      <td>CENTRAL AMERICA</td>\n",
              "      <td>178612000</td>\n",
              "      <td>23.0</td>\n",
              "      <td>0.000013</td>\n",
              "    </tr>\n",
              "    <tr>\n",
              "      <th>2</th>\n",
              "      <td>CENTRAL ASIA</td>\n",
              "      <td>74960000</td>\n",
              "      <td>7.0</td>\n",
              "      <td>0.000009</td>\n",
              "    </tr>\n",
              "    <tr>\n",
              "      <th>3</th>\n",
              "      <td>EAST ASIA</td>\n",
              "      <td>1641063000</td>\n",
              "      <td>76.0</td>\n",
              "      <td>0.000005</td>\n",
              "    </tr>\n",
              "    <tr>\n",
              "      <th>4</th>\n",
              "      <td>EASTERN AFRICA</td>\n",
              "      <td>444970000</td>\n",
              "      <td>35.0</td>\n",
              "      <td>0.000008</td>\n",
              "    </tr>\n",
              "  </tbody>\n",
              "</table>\n",
              "</div>"
            ],
            "text/plain": [
              "        sub-region  population  gafa_count  gafa_pop_percentage\n",
              "0        CARIBBEAN    42747000        13.0             0.000030\n",
              "1  CENTRAL AMERICA   178612000        23.0             0.000013\n",
              "2     CENTRAL ASIA    74960000         7.0             0.000009\n",
              "3        EAST ASIA  1641063000        76.0             0.000005\n",
              "4   EASTERN AFRICA   444970000        35.0             0.000008"
            ]
          },
          "metadata": {},
          "execution_count": 148
        }
      ]
    },
    {
      "cell_type": "markdown",
      "metadata": {
        "id": "AAlrweWVln-j"
      },
      "source": [
        "# Step 6:\n",
        "We will now imbed several tables in the notebook which show the results of our analysis."
      ]
    },
    {
      "cell_type": "code",
      "metadata": {
        "colab": {
          "base_uri": "https://localhost:8080/",
          "height": 359
        },
        "id": "Qgh52zNFlFUc",
        "outputId": "a6bb9d8e-0c17-4990-cb11-c19a9ed91a69"
      },
      "source": [
        "# Top 10 countries by coverage: 10 highest-ranked countries in terms of number of politician articles as a proportion of country population\n",
        "\n",
        "articles_over_population_county_df.sort_values(by=['article_pop_percentage'], ascending=False).head(10)"
      ],
      "execution_count": null,
      "outputs": [
        {
          "output_type": "execute_result",
          "data": {
            "text/html": [
              "<div>\n",
              "<style scoped>\n",
              "    .dataframe tbody tr th:only-of-type {\n",
              "        vertical-align: middle;\n",
              "    }\n",
              "\n",
              "    .dataframe tbody tr th {\n",
              "        vertical-align: top;\n",
              "    }\n",
              "\n",
              "    .dataframe thead th {\n",
              "        text-align: right;\n",
              "    }\n",
              "</style>\n",
              "<table border=\"1\" class=\"dataframe\">\n",
              "  <thead>\n",
              "    <tr style=\"text-align: right;\">\n",
              "      <th></th>\n",
              "      <th>country</th>\n",
              "      <th>population</th>\n",
              "      <th>article_count</th>\n",
              "      <th>article_pop_percentage</th>\n",
              "    </tr>\n",
              "  </thead>\n",
              "  <tbody>\n",
              "    <tr>\n",
              "      <th>208</th>\n",
              "      <td>Tuvalu</td>\n",
              "      <td>10000</td>\n",
              "      <td>54.0</td>\n",
              "      <td>0.540000</td>\n",
              "    </tr>\n",
              "    <tr>\n",
              "      <th>200</th>\n",
              "      <td>Nauru</td>\n",
              "      <td>11000</td>\n",
              "      <td>52.0</td>\n",
              "      <td>0.472727</td>\n",
              "    </tr>\n",
              "    <tr>\n",
              "      <th>189</th>\n",
              "      <td>San Marino</td>\n",
              "      <td>34000</td>\n",
              "      <td>81.0</td>\n",
              "      <td>0.238235</td>\n",
              "    </tr>\n",
              "    <tr>\n",
              "      <th>165</th>\n",
              "      <td>Monaco</td>\n",
              "      <td>38000</td>\n",
              "      <td>40.0</td>\n",
              "      <td>0.105263</td>\n",
              "    </tr>\n",
              "    <tr>\n",
              "      <th>163</th>\n",
              "      <td>Liechtenstein</td>\n",
              "      <td>39000</td>\n",
              "      <td>28.0</td>\n",
              "      <td>0.071795</td>\n",
              "    </tr>\n",
              "    <tr>\n",
              "      <th>199</th>\n",
              "      <td>Marshall Islands</td>\n",
              "      <td>57000</td>\n",
              "      <td>37.0</td>\n",
              "      <td>0.064912</td>\n",
              "    </tr>\n",
              "    <tr>\n",
              "      <th>207</th>\n",
              "      <td>Tonga</td>\n",
              "      <td>99000</td>\n",
              "      <td>63.0</td>\n",
              "      <td>0.063636</td>\n",
              "    </tr>\n",
              "    <tr>\n",
              "      <th>152</th>\n",
              "      <td>Iceland</td>\n",
              "      <td>368000</td>\n",
              "      <td>202.0</td>\n",
              "      <td>0.054891</td>\n",
              "    </tr>\n",
              "    <tr>\n",
              "      <th>179</th>\n",
              "      <td>Andorra</td>\n",
              "      <td>82000</td>\n",
              "      <td>34.0</td>\n",
              "      <td>0.041463</td>\n",
              "    </tr>\n",
              "    <tr>\n",
              "      <th>194</th>\n",
              "      <td>Federated States of Micronesia</td>\n",
              "      <td>106000</td>\n",
              "      <td>36.0</td>\n",
              "      <td>0.033962</td>\n",
              "    </tr>\n",
              "  </tbody>\n",
              "</table>\n",
              "</div>"
            ],
            "text/plain": [
              "                            country  ...  article_pop_percentage\n",
              "208                          Tuvalu  ...                0.540000\n",
              "200                           Nauru  ...                0.472727\n",
              "189                      San Marino  ...                0.238235\n",
              "165                          Monaco  ...                0.105263\n",
              "163                   Liechtenstein  ...                0.071795\n",
              "199                Marshall Islands  ...                0.064912\n",
              "207                           Tonga  ...                0.063636\n",
              "152                         Iceland  ...                0.054891\n",
              "179                         Andorra  ...                0.041463\n",
              "194  Federated States of Micronesia  ...                0.033962\n",
              "\n",
              "[10 rows x 4 columns]"
            ]
          },
          "metadata": {},
          "execution_count": 152
        }
      ]
    },
    {
      "cell_type": "code",
      "metadata": {
        "colab": {
          "base_uri": "https://localhost:8080/",
          "height": 359
        },
        "id": "qzLVE7X-mAmn",
        "outputId": "461e69ec-f43d-4db4-f396-beac814ce7d4"
      },
      "source": [
        "# Bottom 10 countries by coverage: 10 lowest-ranked countries in terms of number of politican articles as a proportion of country population\n",
        "\n",
        "articles_over_population_county_df.sort_values(by=['article_pop_percentage'], ascending=True).head(10)"
      ],
      "execution_count": null,
      "outputs": [
        {
          "output_type": "execute_result",
          "data": {
            "text/html": [
              "<div>\n",
              "<style scoped>\n",
              "    .dataframe tbody tr th:only-of-type {\n",
              "        vertical-align: middle;\n",
              "    }\n",
              "\n",
              "    .dataframe tbody tr th {\n",
              "        vertical-align: top;\n",
              "    }\n",
              "\n",
              "    .dataframe thead th {\n",
              "        text-align: right;\n",
              "    }\n",
              "</style>\n",
              "<table border=\"1\" class=\"dataframe\">\n",
              "  <thead>\n",
              "    <tr style=\"text-align: right;\">\n",
              "      <th></th>\n",
              "      <th>country</th>\n",
              "      <th>population</th>\n",
              "      <th>article_count</th>\n",
              "      <th>article_pop_percentage</th>\n",
              "    </tr>\n",
              "  </thead>\n",
              "  <tbody>\n",
              "    <tr>\n",
              "      <th>142</th>\n",
              "      <td>China, Macao SAR</td>\n",
              "      <td>686000</td>\n",
              "      <td>0.0</td>\n",
              "      <td>0.0</td>\n",
              "    </tr>\n",
              "    <tr>\n",
              "      <th>32</th>\n",
              "      <td>Mayotte</td>\n",
              "      <td>284000</td>\n",
              "      <td>0.0</td>\n",
              "      <td>0.0</td>\n",
              "    </tr>\n",
              "    <tr>\n",
              "      <th>61</th>\n",
              "      <td>El Salvador</td>\n",
              "      <td>6481000</td>\n",
              "      <td>0.0</td>\n",
              "      <td>0.0</td>\n",
              "    </tr>\n",
              "    <tr>\n",
              "      <th>129</th>\n",
              "      <td>Brunei</td>\n",
              "      <td>469000</td>\n",
              "      <td>0.0</td>\n",
              "      <td>0.0</td>\n",
              "    </tr>\n",
              "    <tr>\n",
              "      <th>79</th>\n",
              "      <td>Puerto Rico</td>\n",
              "      <td>3189000</td>\n",
              "      <td>0.0</td>\n",
              "      <td>0.0</td>\n",
              "    </tr>\n",
              "    <tr>\n",
              "      <th>34</th>\n",
              "      <td>Reunion</td>\n",
              "      <td>861000</td>\n",
              "      <td>0.0</td>\n",
              "      <td>0.0</td>\n",
              "    </tr>\n",
              "    <tr>\n",
              "      <th>138</th>\n",
              "      <td>Timor-Leste</td>\n",
              "      <td>1318000</td>\n",
              "      <td>0.0</td>\n",
              "      <td>0.0</td>\n",
              "    </tr>\n",
              "    <tr>\n",
              "      <th>48</th>\n",
              "      <td>Congo, Dem. Rep.</td>\n",
              "      <td>89568000</td>\n",
              "      <td>0.0</td>\n",
              "      <td>0.0</td>\n",
              "    </tr>\n",
              "    <tr>\n",
              "      <th>101</th>\n",
              "      <td>Georgia</td>\n",
              "      <td>3715000</td>\n",
              "      <td>0.0</td>\n",
              "      <td>0.0</td>\n",
              "    </tr>\n",
              "    <tr>\n",
              "      <th>71</th>\n",
              "      <td>Curacao</td>\n",
              "      <td>155000</td>\n",
              "      <td>0.0</td>\n",
              "      <td>0.0</td>\n",
              "    </tr>\n",
              "  </tbody>\n",
              "</table>\n",
              "</div>"
            ],
            "text/plain": [
              "              country  population  article_count  article_pop_percentage\n",
              "142  China, Macao SAR      686000            0.0                     0.0\n",
              "32            Mayotte      284000            0.0                     0.0\n",
              "61        El Salvador     6481000            0.0                     0.0\n",
              "129            Brunei      469000            0.0                     0.0\n",
              "79        Puerto Rico     3189000            0.0                     0.0\n",
              "34            Reunion      861000            0.0                     0.0\n",
              "138       Timor-Leste     1318000            0.0                     0.0\n",
              "48   Congo, Dem. Rep.    89568000            0.0                     0.0\n",
              "101           Georgia     3715000            0.0                     0.0\n",
              "71            Curacao      155000            0.0                     0.0"
            ]
          },
          "metadata": {},
          "execution_count": 153
        }
      ]
    },
    {
      "cell_type": "code",
      "metadata": {
        "colab": {
          "base_uri": "https://localhost:8080/",
          "height": 359
        },
        "id": "otFaxrSKmnun",
        "outputId": "c819af52-75bd-4989-94c1-90f6235485bc"
      },
      "source": [
        "# Top 10 countries by relative quality: 10 highest-ranked countries in terms of the relative proportion of politican articles that are of GA and FA-quality (refered to as gafa)\n",
        "\n",
        "gafa_over_population_country_df.sort_values(by=['gafa_pop_percentage'], ascending=False).head(10)"
      ],
      "execution_count": null,
      "outputs": [
        {
          "output_type": "execute_result",
          "data": {
            "text/html": [
              "<div>\n",
              "<style scoped>\n",
              "    .dataframe tbody tr th:only-of-type {\n",
              "        vertical-align: middle;\n",
              "    }\n",
              "\n",
              "    .dataframe tbody tr th {\n",
              "        vertical-align: top;\n",
              "    }\n",
              "\n",
              "    .dataframe thead th {\n",
              "        text-align: right;\n",
              "    }\n",
              "</style>\n",
              "<table border=\"1\" class=\"dataframe\">\n",
              "  <thead>\n",
              "    <tr style=\"text-align: right;\">\n",
              "      <th></th>\n",
              "      <th>country</th>\n",
              "      <th>population</th>\n",
              "      <th>gafa_count</th>\n",
              "      <th>gafa_pop_percentage</th>\n",
              "    </tr>\n",
              "  </thead>\n",
              "  <tbody>\n",
              "    <tr>\n",
              "      <th>208</th>\n",
              "      <td>Tuvalu</td>\n",
              "      <td>10000</td>\n",
              "      <td>4.0</td>\n",
              "      <td>0.040000</td>\n",
              "    </tr>\n",
              "    <tr>\n",
              "      <th>72</th>\n",
              "      <td>Dominica</td>\n",
              "      <td>72000</td>\n",
              "      <td>1.0</td>\n",
              "      <td>0.001389</td>\n",
              "    </tr>\n",
              "    <tr>\n",
              "      <th>209</th>\n",
              "      <td>Vanuatu</td>\n",
              "      <td>321000</td>\n",
              "      <td>3.0</td>\n",
              "      <td>0.000935</td>\n",
              "    </tr>\n",
              "    <tr>\n",
              "      <th>152</th>\n",
              "      <td>Iceland</td>\n",
              "      <td>368000</td>\n",
              "      <td>2.0</td>\n",
              "      <td>0.000543</td>\n",
              "    </tr>\n",
              "    <tr>\n",
              "      <th>153</th>\n",
              "      <td>Ireland</td>\n",
              "      <td>5003000</td>\n",
              "      <td>25.0</td>\n",
              "      <td>0.000500</td>\n",
              "    </tr>\n",
              "    <tr>\n",
              "      <th>186</th>\n",
              "      <td>Montenegro</td>\n",
              "      <td>622000</td>\n",
              "      <td>2.0</td>\n",
              "      <td>0.000322</td>\n",
              "    </tr>\n",
              "    <tr>\n",
              "      <th>78</th>\n",
              "      <td>Martinique</td>\n",
              "      <td>356000</td>\n",
              "      <td>1.0</td>\n",
              "      <td>0.000281</td>\n",
              "    </tr>\n",
              "    <tr>\n",
              "      <th>122</th>\n",
              "      <td>Bhutan</td>\n",
              "      <td>730000</td>\n",
              "      <td>2.0</td>\n",
              "      <td>0.000274</td>\n",
              "    </tr>\n",
              "    <tr>\n",
              "      <th>202</th>\n",
              "      <td>New Zealand</td>\n",
              "      <td>4987000</td>\n",
              "      <td>13.0</td>\n",
              "      <td>0.000261</td>\n",
              "    </tr>\n",
              "    <tr>\n",
              "      <th>174</th>\n",
              "      <td>Romania</td>\n",
              "      <td>19241000</td>\n",
              "      <td>42.0</td>\n",
              "      <td>0.000218</td>\n",
              "    </tr>\n",
              "  </tbody>\n",
              "</table>\n",
              "</div>"
            ],
            "text/plain": [
              "         country  population  gafa_count  gafa_pop_percentage\n",
              "208       Tuvalu       10000         4.0             0.040000\n",
              "72      Dominica       72000         1.0             0.001389\n",
              "209      Vanuatu      321000         3.0             0.000935\n",
              "152      Iceland      368000         2.0             0.000543\n",
              "153      Ireland     5003000        25.0             0.000500\n",
              "186   Montenegro      622000         2.0             0.000322\n",
              "78    Martinique      356000         1.0             0.000281\n",
              "122       Bhutan      730000         2.0             0.000274\n",
              "202  New Zealand     4987000        13.0             0.000261\n",
              "174      Romania    19241000        42.0             0.000218"
            ]
          },
          "metadata": {},
          "execution_count": 154
        }
      ]
    },
    {
      "cell_type": "code",
      "metadata": {
        "colab": {
          "base_uri": "https://localhost:8080/",
          "height": 359
        },
        "id": "kCMFJLDUm06K",
        "outputId": "1f1d494c-98fd-4e39-c8ec-9b3b9160099f"
      },
      "source": [
        "# Bottom 10 countries by relative quality: 10 lowest-ranked countries in terms of the relative proportion of politician articles that are of GA and FA-quality\n",
        "\n",
        "gafa_over_population_country_df.sort_values(by=['gafa_pop_percentage'], ascending=True).head(10)"
      ],
      "execution_count": null,
      "outputs": [
        {
          "output_type": "execute_result",
          "data": {
            "text/html": [
              "<div>\n",
              "<style scoped>\n",
              "    .dataframe tbody tr th:only-of-type {\n",
              "        vertical-align: middle;\n",
              "    }\n",
              "\n",
              "    .dataframe tbody tr th {\n",
              "        vertical-align: top;\n",
              "    }\n",
              "\n",
              "    .dataframe thead th {\n",
              "        text-align: right;\n",
              "    }\n",
              "</style>\n",
              "<table border=\"1\" class=\"dataframe\">\n",
              "  <thead>\n",
              "    <tr style=\"text-align: right;\">\n",
              "      <th></th>\n",
              "      <th>country</th>\n",
              "      <th>population</th>\n",
              "      <th>gafa_count</th>\n",
              "      <th>gafa_pop_percentage</th>\n",
              "    </tr>\n",
              "  </thead>\n",
              "  <tbody>\n",
              "    <tr>\n",
              "      <th>115</th>\n",
              "      <td>Kazakhstan</td>\n",
              "      <td>18732000</td>\n",
              "      <td>0.0</td>\n",
              "      <td>0.0</td>\n",
              "    </tr>\n",
              "    <tr>\n",
              "      <th>34</th>\n",
              "      <td>Reunion</td>\n",
              "      <td>861000</td>\n",
              "      <td>0.0</td>\n",
              "      <td>0.0</td>\n",
              "    </tr>\n",
              "    <tr>\n",
              "      <th>101</th>\n",
              "      <td>Georgia</td>\n",
              "      <td>3715000</td>\n",
              "      <td>0.0</td>\n",
              "      <td>0.0</td>\n",
              "    </tr>\n",
              "    <tr>\n",
              "      <th>36</th>\n",
              "      <td>Seychelles</td>\n",
              "      <td>98000</td>\n",
              "      <td>0.0</td>\n",
              "      <td>0.0</td>\n",
              "    </tr>\n",
              "    <tr>\n",
              "      <th>107</th>\n",
              "      <td>Oman</td>\n",
              "      <td>4713000</td>\n",
              "      <td>0.0</td>\n",
              "      <td>0.0</td>\n",
              "    </tr>\n",
              "    <tr>\n",
              "      <th>118</th>\n",
              "      <td>Turkmenistan</td>\n",
              "      <td>6031000</td>\n",
              "      <td>0.0</td>\n",
              "      <td>0.0</td>\n",
              "    </tr>\n",
              "    <tr>\n",
              "      <th>71</th>\n",
              "      <td>Curacao</td>\n",
              "      <td>155000</td>\n",
              "      <td>0.0</td>\n",
              "      <td>0.0</td>\n",
              "    </tr>\n",
              "    <tr>\n",
              "      <th>41</th>\n",
              "      <td>Zambia</td>\n",
              "      <td>18384000</td>\n",
              "      <td>0.0</td>\n",
              "      <td>0.0</td>\n",
              "    </tr>\n",
              "    <tr>\n",
              "      <th>151</th>\n",
              "      <td>Finland</td>\n",
              "      <td>5529000</td>\n",
              "      <td>0.0</td>\n",
              "      <td>0.0</td>\n",
              "    </tr>\n",
              "    <tr>\n",
              "      <th>43</th>\n",
              "      <td>Angola</td>\n",
              "      <td>32522000</td>\n",
              "      <td>0.0</td>\n",
              "      <td>0.0</td>\n",
              "    </tr>\n",
              "  </tbody>\n",
              "</table>\n",
              "</div>"
            ],
            "text/plain": [
              "          country  population  gafa_count  gafa_pop_percentage\n",
              "115    Kazakhstan    18732000         0.0                  0.0\n",
              "34        Reunion      861000         0.0                  0.0\n",
              "101       Georgia     3715000         0.0                  0.0\n",
              "36     Seychelles       98000         0.0                  0.0\n",
              "107          Oman     4713000         0.0                  0.0\n",
              "118  Turkmenistan     6031000         0.0                  0.0\n",
              "71        Curacao      155000         0.0                  0.0\n",
              "41         Zambia    18384000         0.0                  0.0\n",
              "151       Finland     5529000         0.0                  0.0\n",
              "43         Angola    32522000         0.0                  0.0"
            ]
          },
          "metadata": {},
          "execution_count": 155
        }
      ]
    },
    {
      "cell_type": "code",
      "metadata": {
        "colab": {
          "base_uri": "https://localhost:8080/",
          "height": 359
        },
        "id": "pfsk07mYnCw6",
        "outputId": "59480493-8155-474e-bddd-069d92efc390"
      },
      "source": [
        "# Geographic regions by coverage: Ranking of geographic regions (in descending order) in terms of the total count of politician articles from countries in each region as a proportion of total regional population\n",
        "\n",
        "articles_over_population_sub_region_df.sort_values(by=['article_pop_percentage'], ascending=False).head(10)"
      ],
      "execution_count": null,
      "outputs": [
        {
          "output_type": "execute_result",
          "data": {
            "text/html": [
              "<div>\n",
              "<style scoped>\n",
              "    .dataframe tbody tr th:only-of-type {\n",
              "        vertical-align: middle;\n",
              "    }\n",
              "\n",
              "    .dataframe tbody tr th {\n",
              "        vertical-align: top;\n",
              "    }\n",
              "\n",
              "    .dataframe thead th {\n",
              "        text-align: right;\n",
              "    }\n",
              "</style>\n",
              "<table border=\"1\" class=\"dataframe\">\n",
              "  <thead>\n",
              "    <tr style=\"text-align: right;\">\n",
              "      <th></th>\n",
              "      <th>sub-region</th>\n",
              "      <th>population</th>\n",
              "      <th>article_count</th>\n",
              "      <th>article_pop_percentage</th>\n",
              "    </tr>\n",
              "  </thead>\n",
              "  <tbody>\n",
              "    <tr>\n",
              "      <th>10</th>\n",
              "      <td>OCEANIA</td>\n",
              "      <td>42999000</td>\n",
              "      <td>3132.0</td>\n",
              "      <td>0.007284</td>\n",
              "    </tr>\n",
              "    <tr>\n",
              "      <th>9</th>\n",
              "      <td>NORTHERN EUROPE</td>\n",
              "      <td>105852000</td>\n",
              "      <td>3781.0</td>\n",
              "      <td>0.003572</td>\n",
              "    </tr>\n",
              "    <tr>\n",
              "      <th>15</th>\n",
              "      <td>SOUTHERN EUROPE</td>\n",
              "      <td>153216000</td>\n",
              "      <td>3729.0</td>\n",
              "      <td>0.002434</td>\n",
              "    </tr>\n",
              "    <tr>\n",
              "      <th>18</th>\n",
              "      <td>WESTERN EUROPE</td>\n",
              "      <td>195479000</td>\n",
              "      <td>4577.0</td>\n",
              "      <td>0.002341</td>\n",
              "    </tr>\n",
              "    <tr>\n",
              "      <th>0</th>\n",
              "      <td>CARIBBEAN</td>\n",
              "      <td>42747000</td>\n",
              "      <td>697.0</td>\n",
              "      <td>0.001631</td>\n",
              "    </tr>\n",
              "    <tr>\n",
              "      <th>5</th>\n",
              "      <td>EASTERN EUROPE</td>\n",
              "      <td>291902000</td>\n",
              "      <td>3771.0</td>\n",
              "      <td>0.001292</td>\n",
              "    </tr>\n",
              "    <tr>\n",
              "      <th>14</th>\n",
              "      <td>SOUTHERN AFRICA</td>\n",
              "      <td>67732000</td>\n",
              "      <td>635.0</td>\n",
              "      <td>0.000938</td>\n",
              "    </tr>\n",
              "    <tr>\n",
              "      <th>17</th>\n",
              "      <td>WESTERN ASIA</td>\n",
              "      <td>280927000</td>\n",
              "      <td>2580.0</td>\n",
              "      <td>0.000918</td>\n",
              "    </tr>\n",
              "    <tr>\n",
              "      <th>1</th>\n",
              "      <td>CENTRAL AMERICA</td>\n",
              "      <td>178612000</td>\n",
              "      <td>1545.0</td>\n",
              "      <td>0.000865</td>\n",
              "    </tr>\n",
              "    <tr>\n",
              "      <th>11</th>\n",
              "      <td>SOUTH AMERICA</td>\n",
              "      <td>429188000</td>\n",
              "      <td>3042.0</td>\n",
              "      <td>0.000709</td>\n",
              "    </tr>\n",
              "  </tbody>\n",
              "</table>\n",
              "</div>"
            ],
            "text/plain": [
              "         sub-region  population  article_count  article_pop_percentage\n",
              "10          OCEANIA    42999000         3132.0                0.007284\n",
              "9   NORTHERN EUROPE   105852000         3781.0                0.003572\n",
              "15  SOUTHERN EUROPE   153216000         3729.0                0.002434\n",
              "18   WESTERN EUROPE   195479000         4577.0                0.002341\n",
              "0         CARIBBEAN    42747000          697.0                0.001631\n",
              "5    EASTERN EUROPE   291902000         3771.0                0.001292\n",
              "14  SOUTHERN AFRICA    67732000          635.0                0.000938\n",
              "17     WESTERN ASIA   280927000         2580.0                0.000918\n",
              "1   CENTRAL AMERICA   178612000         1545.0                0.000865\n",
              "11    SOUTH AMERICA   429188000         3042.0                0.000709"
            ]
          },
          "metadata": {},
          "execution_count": 157
        }
      ]
    },
    {
      "cell_type": "code",
      "metadata": {
        "colab": {
          "base_uri": "https://localhost:8080/",
          "height": 359
        },
        "id": "eqFwQ-7vnX3s",
        "outputId": "9eb823ce-dae1-4d77-a327-f6706e8369aa"
      },
      "source": [
        "# Geographic regions by coverage: Ranking of geographic regions (in descending order) in terms of the relative proportion of politican articles from countries in each region that are of GA and FA-quality\n",
        "\n",
        "gafa_over_population_sub_region_df.sort_values(by=['gafa_pop_percentage'], ascending=False).head(10)"
      ],
      "execution_count": null,
      "outputs": [
        {
          "output_type": "execute_result",
          "data": {
            "text/html": [
              "<div>\n",
              "<style scoped>\n",
              "    .dataframe tbody tr th:only-of-type {\n",
              "        vertical-align: middle;\n",
              "    }\n",
              "\n",
              "    .dataframe tbody tr th {\n",
              "        vertical-align: top;\n",
              "    }\n",
              "\n",
              "    .dataframe thead th {\n",
              "        text-align: right;\n",
              "    }\n",
              "</style>\n",
              "<table border=\"1\" class=\"dataframe\">\n",
              "  <thead>\n",
              "    <tr style=\"text-align: right;\">\n",
              "      <th></th>\n",
              "      <th>sub-region</th>\n",
              "      <th>population</th>\n",
              "      <th>gafa_count</th>\n",
              "      <th>gafa_pop_percentage</th>\n",
              "    </tr>\n",
              "  </thead>\n",
              "  <tbody>\n",
              "    <tr>\n",
              "      <th>10</th>\n",
              "      <td>OCEANIA</td>\n",
              "      <td>42999000</td>\n",
              "      <td>63.0</td>\n",
              "      <td>0.000147</td>\n",
              "    </tr>\n",
              "    <tr>\n",
              "      <th>9</th>\n",
              "      <td>NORTHERN EUROPE</td>\n",
              "      <td>105852000</td>\n",
              "      <td>102.0</td>\n",
              "      <td>0.000096</td>\n",
              "    </tr>\n",
              "    <tr>\n",
              "      <th>15</th>\n",
              "      <td>SOUTHERN EUROPE</td>\n",
              "      <td>153216000</td>\n",
              "      <td>74.0</td>\n",
              "      <td>0.000048</td>\n",
              "    </tr>\n",
              "    <tr>\n",
              "      <th>5</th>\n",
              "      <td>EASTERN EUROPE</td>\n",
              "      <td>291902000</td>\n",
              "      <td>118.0</td>\n",
              "      <td>0.000040</td>\n",
              "    </tr>\n",
              "    <tr>\n",
              "      <th>17</th>\n",
              "      <td>WESTERN ASIA</td>\n",
              "      <td>280927000</td>\n",
              "      <td>89.0</td>\n",
              "      <td>0.000032</td>\n",
              "    </tr>\n",
              "    <tr>\n",
              "      <th>0</th>\n",
              "      <td>CARIBBEAN</td>\n",
              "      <td>42747000</td>\n",
              "      <td>13.0</td>\n",
              "      <td>0.000030</td>\n",
              "    </tr>\n",
              "    <tr>\n",
              "      <th>18</th>\n",
              "      <td>WESTERN EUROPE</td>\n",
              "      <td>195479000</td>\n",
              "      <td>56.0</td>\n",
              "      <td>0.000029</td>\n",
              "    </tr>\n",
              "    <tr>\n",
              "      <th>8</th>\n",
              "      <td>NORTHERN AMERICA</td>\n",
              "      <td>368068000</td>\n",
              "      <td>104.0</td>\n",
              "      <td>0.000028</td>\n",
              "    </tr>\n",
              "    <tr>\n",
              "      <th>14</th>\n",
              "      <td>SOUTHERN AFRICA</td>\n",
              "      <td>67732000</td>\n",
              "      <td>9.0</td>\n",
              "      <td>0.000013</td>\n",
              "    </tr>\n",
              "    <tr>\n",
              "      <th>1</th>\n",
              "      <td>CENTRAL AMERICA</td>\n",
              "      <td>178612000</td>\n",
              "      <td>23.0</td>\n",
              "      <td>0.000013</td>\n",
              "    </tr>\n",
              "  </tbody>\n",
              "</table>\n",
              "</div>"
            ],
            "text/plain": [
              "          sub-region  population  gafa_count  gafa_pop_percentage\n",
              "10           OCEANIA    42999000        63.0             0.000147\n",
              "9    NORTHERN EUROPE   105852000       102.0             0.000096\n",
              "15   SOUTHERN EUROPE   153216000        74.0             0.000048\n",
              "5     EASTERN EUROPE   291902000       118.0             0.000040\n",
              "17      WESTERN ASIA   280927000        89.0             0.000032\n",
              "0          CARIBBEAN    42747000        13.0             0.000030\n",
              "18    WESTERN EUROPE   195479000        56.0             0.000029\n",
              "8   NORTHERN AMERICA   368068000       104.0             0.000028\n",
              "14   SOUTHERN AFRICA    67732000         9.0             0.000013\n",
              "1    CENTRAL AMERICA   178612000        23.0             0.000013"
            ]
          },
          "metadata": {},
          "execution_count": 161
        }
      ]
    },
    {
      "cell_type": "markdown",
      "metadata": {
        "id": "Xhk-PhF7n3NM"
      },
      "source": [
        "# Writeup: Reflections and Implications"
      ]
    },
    {
      "cell_type": "markdown",
      "metadata": {
        "id": "i7V2fPhYn5fd"
      },
      "source": [
        "\n",
        "\n",
        "*   What biases did you expect to find in the data (before you started working with it), and why?\n",
        "  * I expected to see that wealthier countries would have a better representation of their politican figures on wikipedia due to improved access to the technology required to create, edit, and contribute to such pages.\n",
        "*   What (potential) sources of bias did you discover in the course of your data processing and analysis?\n",
        "  * Overwhelmingly, western countries are better represented than asian or african countries.\n",
        "* What might your results suggest about (English) Wikipedia as a data source?\n",
        "  * This suggests (albiet weakly) that information on the English Wikipedia is biased towards a western perspective of things. This could especially be the case when less-than-objective information is discussed on wikipedia pages. For example, events about a politicians term might be viewed and understood through a primarily western lense. \n",
        "* What might your results suggest about the internet and global society in general?\n",
        "  * If this trend can properly be extrapolated to the whole of internet society (a lot of work would be needed to show this), then we could conclude that in general there is a western bias on the internet. \n",
        "* Can you think of a realistic data science research situation where using these data (to train a model, perform a hypothesis-driven research, or make business decisions) might create biased or misleading results, due to the inherent gaps and limitations of the data?\n",
        "  * A sentiment-analysis tool used to determine politican approval based on wikipedia sections about events which occured during the politician's term would have a western lean and so the training of the sentiment-analysis tool would not properly generalize to determine politician approval in the politican's home country if that place was not a western country.\n",
        "* Can you think of a realistic data science research situation where using these data (to train a model, perform a hypothesis-driven research, or make business decisions) might still be appropriate and useful, despite its inherent limitations and biases?\n",
        "  * A hypothesis-driven research scenario in which the researcher was attempting to determine the number of representatives belonging to each country might still be able to use this data to estimate the number. \n",
        "* How might a researcher supplement or transform this dataset to potentially correct for the limitations/biases you observed?\n",
        "  * The researcher could use article ID's from the language wikipedia of the home country of the politician the page is describing.\n",
        "\n",
        "\n"
      ]
    },
    {
      "cell_type": "code",
      "metadata": {
        "id": "pM7UbfVjnxg_"
      },
      "source": [
        ""
      ],
      "execution_count": null,
      "outputs": []
    }
  ]
}